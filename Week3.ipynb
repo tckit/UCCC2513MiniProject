{
 "cells": [
  {
   "cell_type": "markdown",
   "id": "59bc1648",
   "metadata": {},
   "source": [
    "[Exercise at bottom](#Exercises)"
   ]
  },
  {
   "cell_type": "markdown",
   "id": "c1ddb41b",
   "metadata": {},
   "source": [
    "## Learning outcomes\n",
    "1. Load, display and save images\n",
    "2. Load, show and save videos\n",
    "3. Image resizing"
   ]
  },
  {
   "cell_type": "markdown",
   "id": "b2c6cca6",
   "metadata": {},
   "source": [
    "## Why OpenCV?\n",
    "- Compatible with multiple major OS, like Windows, MacOs, Linux. Written in C++, Python and Java.\n",
    "- Interoperable with Numpy, thereby facilitate fast computation of image arrays.\n",
    "- Large community support, a lot of articles, stackoverflow posts regarding OpenCV."
   ]
  },
  {
   "cell_type": "markdown",
   "id": "1648a0e8",
   "metadata": {},
   "source": [
    "## Image formats\n",
    "- JPEG (.jpg, .jpeg, .jfif)\n",
    "    * photos, smaller file size compared to png\n",
    "- PNG (.png)\n",
    "    * website or file transfer\n",
    "- tiff (.tif)\n",
    "    * used for printing (high quality), larger file size\n",
    "- bitmap (.bmp)\n",
    "    * large file size\n",
    "- gif (.GIF, OpenCV can't deal with GIF)\n",
    "    * support animation, shallow color depth\n",
    "- webp (.webp)\n",
    "    * used for file transfer, not supported by IE"
   ]
  },
  {
   "cell_type": "markdown",
   "id": "a25f7a0f",
   "metadata": {},
   "source": [
    "## Load and show images"
   ]
  },
  {
   "cell_type": "code",
   "execution_count": 1,
   "id": "9e6684b4",
   "metadata": {},
   "outputs": [],
   "source": [
    "# !pip install opencv-contrib-python"
   ]
  },
  {
   "cell_type": "code",
   "execution_count": 2,
   "id": "c5eabd0d",
   "metadata": {},
   "outputs": [],
   "source": [
    "import sys\n",
    "# at least Python 3.7\n",
    "assert sys.version_info >= (3, 7)\n",
    "\n",
    "import numpy as np\n",
    "import cv2 as cv"
   ]
  },
  {
   "cell_type": "code",
   "execution_count": 3,
   "id": "2fa6a39e",
   "metadata": {},
   "outputs": [],
   "source": [
    "img = cv.imread(\"images/lena.jfif\")\n",
    "\n",
    "# second argument: 1(default, read color image), 0(grayscale), -1(cv.IMREAD_UNCHANGED)\n",
    "grayscale = cv.imread(\"images/lena.jfif\", 0) \n",
    "\n",
    "cv.imshow(\"lena_color\", img)\n",
    "cv.imshow(\"lena_grayscale\", grayscale)\n",
    "cv.waitKey(0) # key binding function: wait for user input\n",
    "cv.destroyAllWindows()"
   ]
  },
  {
   "cell_type": "code",
   "execution_count": 4,
   "id": "9e2ec83a",
   "metadata": {},
   "outputs": [],
   "source": [
    "def show_img(window_name, img):\n",
    "    \"\"\"2 arguments: window name and image\"\"\"\n",
    "    cv.imshow(window_name, img)\n",
    "    cv.waitKey(0)\n",
    "    cv.destroyAllWindows()"
   ]
  },
  {
   "cell_type": "code",
   "execution_count": 5,
   "id": "414ae3af",
   "metadata": {},
   "outputs": [],
   "source": [
    "img = cv.imread(\"images/lena.png\")\n",
    "\n",
    "show_img(\"image\", img)"
   ]
  },
  {
   "cell_type": "markdown",
   "id": "89a7d43b",
   "metadata": {},
   "source": [
    "How about GIF?"
   ]
  },
  {
   "cell_type": "code",
   "execution_count": 6,
   "id": "57e92a2a",
   "metadata": {},
   "outputs": [],
   "source": [
    "import imageio"
   ]
  },
  {
   "cell_type": "code",
   "execution_count": 7,
   "id": "3b309a04",
   "metadata": {
    "scrolled": true
   },
   "outputs": [],
   "source": [
    "# GIF\n",
    "GIF = imageio.mimread(\"images/rotating_earth_large.gif\")\n",
    "\n",
    "# convert RGB to BGR\n",
    "imgs = [cv.cvtColor(img, cv.COLOR_RGB2BGR) for img in GIF]\n",
    "\n",
    "for img in imgs:\n",
    "    cv.imshow(\"GIF\", img)\n",
    "    cv.waitKey(150)\n",
    "\n",
    "cv.destroyAllWindows()"
   ]
  },
  {
   "cell_type": "code",
   "execution_count": 8,
   "id": "aa941908",
   "metadata": {
    "scrolled": true
   },
   "outputs": [
    {
     "name": "stdout",
     "output_type": "stream",
     "text": [
      "The shape of jpeg: (225, 225, 3)\n",
      "The shape of png: (225, 225, 4)\n"
     ]
    }
   ],
   "source": [
    "img_jpeg = cv.imread(\"images/lena.jfif\", -1)\n",
    "img_png = cv.imread(\"images/lena.png\", -1)\n",
    "\n",
    "print(f\"The shape of jpeg: {img_jpeg.shape}\")\n",
    "print(f\"The shape of png: {img_png.shape}\")"
   ]
  },
  {
   "cell_type": "markdown",
   "id": "f5f6ca1c",
   "metadata": {},
   "source": [
    "## Save image\n",
    "```\n",
    "cv.imwrite(filepath, img)\n",
    "```"
   ]
  },
  {
   "cell_type": "code",
   "execution_count": 9,
   "id": "c33c38e0",
   "metadata": {},
   "outputs": [],
   "source": [
    "# formalized way to load, show and save image\n",
    "img = cv.imread(cv.samples.findFile(\"images/lena.jfif\"))\n",
    "\n",
    "if img is None:\n",
    "    sys.exit(\"Not a valid filepath\")\n",
    "    \n",
    "cv.imshow(\"lena\", img)\n",
    "k = cv.waitKey(0) & 0xFF\n",
    "\n",
    "if k == ord('s'):  # 's' key\n",
    "    cv.imwrite(\"lena_save.jpg\", img)\n",
    "    \n",
    "cv.destroyAllWindows()"
   ]
  },
  {
   "cell_type": "markdown",
   "id": "1bfad0f5",
   "metadata": {},
   "source": [
    "## video operations with OpenCV"
   ]
  },
  {
   "cell_type": "code",
   "execution_count": 10,
   "id": "04549d91",
   "metadata": {},
   "outputs": [],
   "source": [
    "cap = cv.VideoCapture(\"videos/img_pexels.mp4\")\n",
    "\n",
    "if not cap.isOpened():\n",
    "    sys.exit(\"No such file\")\n",
    "\n",
    "cv.namedWindow(\"frame\", cv.WINDOW_NORMAL)\n",
    "while True:\n",
    "    ret, frame = cap.read()\n",
    "    \n",
    "    if not ret:\n",
    "        print(\"No frame detected!\")\n",
    "        break\n",
    "        \n",
    "    cv.imshow(\"frame\", frame)\n",
    "    k = cv.waitKey(1) & 0xFF\n",
    "    if k == 27: # Esc key\n",
    "        break\n",
    "\n",
    "cap.release()\n",
    "cv.destroyAllWindows()"
   ]
  },
  {
   "cell_type": "markdown",
   "id": "0706237d",
   "metadata": {},
   "source": [
    "## Webcam\n",
    "save video captured by webcam"
   ]
  },
  {
   "cell_type": "code",
   "execution_count": 11,
   "id": "88061b68",
   "metadata": {},
   "outputs": [
    {
     "ename": "SystemExit",
     "evalue": "No webcam",
     "output_type": "error",
     "traceback": [
      "An exception has occurred, use %tb to see the full traceback.\n",
      "\u001b[1;31mSystemExit\u001b[0m\u001b[1;31m:\u001b[0m No webcam\n"
     ]
    },
    {
     "name": "stderr",
     "output_type": "stream",
     "text": [
      "C:\\Users\\user\\anaconda3\\lib\\site-packages\\IPython\\core\\interactiveshell.py:3377: UserWarning: To exit: use 'exit', 'quit', or Ctrl-D.\n",
      "  warn(\"To exit: use 'exit', 'quit', or Ctrl-D.\", stacklevel=1)\n"
     ]
    }
   ],
   "source": [
    "cap = cv.VideoCapture(0)  # 0 for webcame capture\n",
    "\n",
    "if not cap.isOpened():\n",
    "    sys.exit(\"No webcam\")\n",
    "    \n",
    "# parameters: filepath, fourcc, fps, frame width and height\n",
    "fourcc = cv.VideoWriter_fourcc(\"M\", \"J\", \"P\", \"G\")\n",
    "fps = 15\n",
    "w, h = int(cap.get(3)), int(cap.get(4)) \n",
    "\n",
    "out = cv.VideoWriter(\"videos/out.avi\", fourcc, fps, (w, h))\n",
    "\n",
    "while True:\n",
    "    ret, frame = cap.read()\n",
    "    \n",
    "    if not ret:\n",
    "        print(\"No frame detected!\")\n",
    "        break\n",
    "    \n",
    "    out.write(frame)\n",
    "    cv.imshow(\"frame\", frame)\n",
    "    k = cv.waitKey(1) & 0xFF\n",
    "    if k == 27:\n",
    "        break\n",
    "        \n",
    "cap.release()\n",
    "out.release()\n",
    "cv.destroyAllWindows()"
   ]
  },
  {
   "cell_type": "code",
   "execution_count": 12,
   "id": "6d72d7d1",
   "metadata": {},
   "outputs": [],
   "source": [
    "import time"
   ]
  },
  {
   "cell_type": "code",
   "execution_count": 13,
   "id": "3e8d1164",
   "metadata": {},
   "outputs": [],
   "source": [
    "cap = cv.VideoCapture(\"videos/img_pexels.mp4\")\n",
    "\n",
    "if not cap.isOpened():\n",
    "    sys.exit(\"No such file\")\n",
    "\n",
    "cv.namedWindow(\"frame\", cv.WINDOW_NORMAL)\n",
    "start = time.time()\n",
    "while True:\n",
    "    ret, frame = cap.read()\n",
    "    \n",
    "    if not ret:\n",
    "        print(\"No frame detected!\")\n",
    "        break\n",
    "        \n",
    "    cv.imshow(\"frame\", frame)\n",
    "    k = cv.waitKey(1) & 0xFF\n",
    "    if k == 27:\n",
    "        break\n",
    "\n",
    "end = time.time()\n",
    "# cap.release()\n",
    "cv.destroyAllWindows()"
   ]
  },
  {
   "cell_type": "code",
   "execution_count": 14,
   "id": "b63dcd7e",
   "metadata": {
    "scrolled": true
   },
   "outputs": [
    {
     "name": "stdout",
     "output_type": "stream",
     "text": [
      "The fps using the media player: 60.0\n",
      "The fps with OpenCV: 1826.8559290470093\n"
     ]
    }
   ],
   "source": [
    "print(f\"The fps using the media player: {cap.get(5)}\")\n",
    "total_frame = cap.get(7)\n",
    "print(f\"The fps with OpenCV: {total_frame / (end - start)}\")"
   ]
  },
  {
   "cell_type": "markdown",
   "id": "80927f62",
   "metadata": {},
   "source": [
    "## resizing \n",
    "2 methods to perform resizing:\n",
    "1. set arbitrary sizes\n",
    "2. scale factor"
   ]
  },
  {
   "cell_type": "code",
   "execution_count": 15,
   "id": "bc352d73",
   "metadata": {},
   "outputs": [],
   "source": [
    "# method 1: set any dimension you prefer\n",
    "img = cv.imread(\"images/soccer.jpg\")\n",
    "\n",
    "# parameters: source image, dimension, fx, fy, interpolation methods\n",
    "new_height = 450\n",
    "new_width = 300\n",
    "img_resize = cv.resize(img, (new_width, new_height))\n",
    "\n",
    "cv.imshow(\"original\", img)\n",
    "show_img(\"resize\", img_resize)\n",
    "\n",
    "cv.waitKey(0)\n",
    "cv.destroyAllWindows()"
   ]
  },
  {
   "cell_type": "code",
   "execution_count": 16,
   "id": "46605444",
   "metadata": {
    "scrolled": true
   },
   "outputs": [
    {
     "data": {
      "text/plain": [
       "(1200, 800, 3)"
      ]
     },
     "execution_count": 16,
     "metadata": {},
     "output_type": "execute_result"
    }
   ],
   "source": [
    "img.shape"
   ]
  },
  {
   "cell_type": "code",
   "execution_count": 17,
   "id": "c9388a91",
   "metadata": {},
   "outputs": [],
   "source": [
    "# method 2: scale factor\n",
    "img = cv.imread(\"images/lena.jfif\")\n",
    "\n",
    "img_resize = cv.resize(img, None, fx=1.5, fy=1.5)\n",
    "\n",
    "cv.imshow(\"original\", img)\n",
    "show_img(\"resize\", img_resize)\n",
    "\n",
    "cv.waitKey(0)\n",
    "cv.destroyAllWindows()"
   ]
  },
  {
   "cell_type": "markdown",
   "id": "abfc2581",
   "metadata": {},
   "source": [
    "## Exercises\n",
    "1. Load and display the image 'dog.jfif'. Save the image in png format.\n",
    "2. Suggest 2 ways and write codes to display 2 images simultaneously. You can use any image snapped from your handphone, downloaded from internet or images from weekly materials on MS teams. The 2 images are original color image and its corresponding grayscale image.\n",
    "3. Write codes that performs the following: \n",
    "  * Load the video “img_pexels.mp4” into the Python environment, resize it and display the videos with smaller frames (The frames can be of any size, as long as it is smaller). You can specify an arbitrary frame rate.\n",
    "  * Save it as a separate files: “smaller_img_pexels.avi” or \"smaller_img_pexels.mp4\" \n",
    "4. Enlarge the image \"dog.jfif\" by using different techniques: 1) Linear interpolation, 2) Cubic interpolation and 3) nearest neighbor interpolation. Comment on the upscaled of all the outputs.\n",
    " "
   ]
  },
  {
   "cell_type": "code",
   "execution_count": 18,
   "id": "fb5fcbd5",
   "metadata": {},
   "outputs": [],
   "source": [
    "import sys\n",
    "# at least Python 3.7\n",
    "assert sys.version_info >= (3, 7)\n",
    "\n",
    "import numpy as np\n",
    "import cv2 as cv"
   ]
  },
  {
   "cell_type": "markdown",
   "id": "4671abe3",
   "metadata": {},
   "source": [
    "Exercise 1"
   ]
  },
  {
   "cell_type": "code",
   "execution_count": 19,
   "id": "4eb0c2f8",
   "metadata": {},
   "outputs": [],
   "source": [
    "img = cv.imread(cv.samples.findFile(\"images/dog.jfif\"))\n",
    "\n",
    "if img is None:\n",
    "    sys.exit(\"Not a valid filepath\")\n",
    "\n",
    "cv.imshow(\"dog\", img)\n",
    "k = cv.waitKey(0) & 0xFF\n",
    "if k == ord('s'):\n",
    "    cv.imwrite(\"images/dog.png\", img)\n",
    "    \n",
    "cv.destroyAllWindows()"
   ]
  },
  {
   "cell_type": "markdown",
   "id": "499f64d2",
   "metadata": {},
   "source": [
    "Exercise 2"
   ]
  },
  {
   "cell_type": "code",
   "execution_count": 20,
   "id": "6621a5af",
   "metadata": {},
   "outputs": [],
   "source": [
    "# method 1: call cv.imshow() twice\n",
    "img = cv.imread(\"images/lena.jfif\")\n",
    "grayscale = cv.cvtColor(img, cv.COLOR_BGR2GRAY)\n",
    "\n",
    "cv.imshow(\"COLOR\", img)\n",
    "show_img(\"grayscale\", grayscale)"
   ]
  },
  {
   "cell_type": "code",
   "execution_count": 21,
   "id": "e7cc43b1",
   "metadata": {},
   "outputs": [],
   "source": [
    "# method 2: use matplotlib module\n",
    "import matplotlib.pyplot as plt"
   ]
  },
  {
   "cell_type": "code",
   "execution_count": 22,
   "id": "0278dcc0",
   "metadata": {},
   "outputs": [
    {
     "data": {
      "image/png": "[encoded data removed]",
      "text/plain": [
       "<Figure size 432x288 with 2 Axes>"
      ]
     },
     "metadata": {},
     "output_type": "display_data"
    }
   ],
   "source": [
    "img_rgb = cv.cvtColor(img, cv.COLOR_BGR2RGB)\n",
    "\n",
    "plt.subplot(121)\n",
    "plt.imshow(img_rgb)\n",
    "plt.xticks([]), plt.yticks([])\n",
    "\n",
    "plt.subplot(122)\n",
    "plt.imshow(grayscale, cmap=plt.cm.gray)\n",
    "plt.xticks([]), plt.yticks([])\n",
    "plt.suptitle(\"color and grayscale\")\n",
    "plt.show()"
   ]
  },
  {
   "cell_type": "code",
   "execution_count": 23,
   "id": "fe80c246",
   "metadata": {},
   "outputs": [],
   "source": [
    "# method 3: cv.imshow() or plt\n",
    "grayscale = cv.cvtColor(grayscale, cv.COLOR_GRAY2BGR)\n",
    "\n",
    "img_combined = np.hstack((img, grayscale))\n",
    "\n",
    "show_img(\"color vs grayscale\", img_combined)"
   ]
  },
  {
   "cell_type": "markdown",
   "id": "0d283615",
   "metadata": {},
   "source": [
    "Exercise 3"
   ]
  },
  {
   "cell_type": "code",
   "execution_count": 24,
   "id": "b11125ca",
   "metadata": {},
   "outputs": [],
   "source": [
    "cap = cv.VideoCapture(\"videos/img_pexels.mp4\")\n",
    "\n",
    "if not cap.isOpened():\n",
    "    sys.exit(\"Video not found\")\n",
    "\n",
    "# set a scale for the resized frame\n",
    "SCALE_FACTOR = 0.3\n",
    "\n",
    "fourcc = cv.VideoWriter_fourcc(*'mp4v')\n",
    "w, h = int(cap.get(3) * SCALE_FACTOR), int(cap.get(4) * SCALE_FACTOR)\n",
    "\n",
    "out = cv.VideoWriter(\"smaller_img_pexels.mp4\", fourcc, 20, (w, h))\n",
    "\n",
    "while cap.isOpened():\n",
    "    ret, frame = cap.read()\n",
    "    \n",
    "    if not ret:\n",
    "        print(\"No frame detected!\")\n",
    "        break\n",
    "        \n",
    "    frame_resize = cv.resize(frame, None, fx=SCALE_FACTOR, fy=SCALE_FACTOR, interpolation=cv.INTER_AREA)\n",
    "    out.write(frame_resize)\n",
    "    cv.imshow(\"video\", frame_resize)\n",
    "    \n",
    "    # exit if any key is pressed\n",
    "    if cv.waitKey(1) != -1:\n",
    "        break\n",
    "\n",
    "cap.release()\n",
    "out.release()\n",
    "cv.destroyAllWindows()"
   ]
  },
  {
   "cell_type": "markdown",
   "id": "cc1e19d9",
   "metadata": {},
   "source": [
    "Exercise 4"
   ]
  },
  {
   "cell_type": "code",
   "execution_count": 25,
   "id": "ea044bcc",
   "metadata": {},
   "outputs": [],
   "source": [
    "def enlarge_img(window_name, interpolation=cv.INTER_LINEAR):\n",
    "    \"\"\"2 arguments: Window name and interpolation flag [optional]\"\"\"\n",
    "    # using nearest neighbour interpolation\n",
    "    img = cv.imread(\"images/dog.jfif\")\n",
    "\n",
    "    if img is None:\n",
    "        sys.exit(\"Cannot find image file\")\n",
    "\n",
    "    scale = 1.5\n",
    "    img_resize = cv.resize(img, None, fx=scale, fy=scale, interpolation=interpolation)\n",
    "    \n",
    "    cv.imshow(window_name, img_resize)"
   ]
  },
  {
   "cell_type": "code",
   "execution_count": 26,
   "id": "92e79544",
   "metadata": {},
   "outputs": [],
   "source": [
    "# Using linear interpolation\n",
    "# a balance between performance and image quality\n",
    "enlarge_img(\"dog linear\")\n",
    "\n",
    "# Using cubic interpolation\n",
    "# slowest performance but with highest image quality\n",
    "enlarge_img(\"dog cubic\", cv.INTER_CUBIC)\n",
    "\n",
    "# using nearest neighbour interpolation\n",
    "# fastest performance but with the lowest image quality\n",
    "enlarge_img(\"dog nearest_neighbour\", cv.INTER_NEAREST)\n",
    "\n",
    "cv.waitKey(0)\n",
    "cv.destroyAllWindows()"
   ]
  },
  {
   "cell_type": "code",
   "execution_count": null,
   "id": "38240583",
   "metadata": {},
   "outputs": [],
   "source": []
  }
 ],
 "metadata": {
  "kernelspec": {
   "display_name": "Python 3 (ipykernel)",
   "language": "python",
   "name": "python3"
  },
  "language_info": {
   "codemirror_mode": {
    "name": "ipython",
    "version": 3
   },
   "file_extension": ".py",
   "mimetype": "text/x-python",
   "name": "python",
   "nbconvert_exporter": "python",
   "pygments_lexer": "ipython3",
   "version": "3.9.12"
  }
 },
 "nbformat": 4,
 "nbformat_minor": 5
}
